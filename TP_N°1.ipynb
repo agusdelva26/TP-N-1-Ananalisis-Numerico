{
 "cells": [
  {
   "cell_type": "code",
   "execution_count": 1,
   "metadata": {
    "id": "OqsTbMIVGa_z"
   },
   "outputs": [],
   "source": [
    "import math"
   ]
  },
  {
   "cell_type": "code",
   "execution_count": 2,
   "metadata": {
    "colab": {
     "base_uri": "https://localhost:8080/"
    },
    "id": "l4TepgTdU7f6",
    "outputId": "6da99256-88ea-4127-d0e7-ef3836b63a09"
   },
   "outputs": [
    {
     "name": "stdout",
     "output_type": "stream",
     "text": [
      "Volumen cuando no queda altura libre: 596754.949327342\n",
      "Volumen cuando la altura libre es igual al radio del tanque: 298377.474663671\n",
      "Máxima capacidad del tanque: 596754.949327342\n",
      "Volumen cuando la altura libre es una décima parte del diámetro del tanque: 383342.54320873116\n"
     ]
    }
   ],
   "source": [
    "def calcular_volumen(D, L, HL):\n",
    "    r = D / 2\n",
    "    V = L * (((math.pi * D**2) / 4) - ((D**2 / 4) * math.acos((D - 2 * HL) / D)) - (D / 2 - HL) * math.sqrt((D**2 / 4) - (D / 2 - HL)**2))\n",
    "    return V\n",
    "\n",
    "# valores para probar la función\n",
    "D = 82  # diámetro del cilindro \n",
    "L = 113  # longitud del cilindro \n",
    "\n",
    "# puntos específicos requeridos en el enunciado\n",
    "print(\"Volumen cuando no queda altura libre:\", calcular_volumen(D, L, 0))\n",
    "\n",
    "print(\"Volumen cuando la altura libre es igual al radio del tanque:\", calcular_volumen(D, L, D / 2))\n",
    "\n",
    "print(\"Máxima capacidad del tanque:\", calcular_volumen(D, L, 0))\n",
    "\n",
    "print(\"Volumen cuando la altura libre es una décima parte del diámetro del tanque:\", calcular_volumen(D, L, D / 10))"
   ]
  }
 ],
 "metadata": {
  "colab": {
   "provenance": []
  },
  "kernelspec": {
   "display_name": "Python 3 (ipykernel)",
   "language": "python",
   "name": "python3"
  },
  "language_info": {
   "codemirror_mode": {
    "name": "ipython",
    "version": 3
   },
   "file_extension": ".py",
   "mimetype": "text/x-python",
   "name": "python",
   "nbconvert_exporter": "python",
   "pygments_lexer": "ipython3",
   "version": "3.11.7"
  }
 },
 "nbformat": 4,
 "nbformat_minor": 4
}
